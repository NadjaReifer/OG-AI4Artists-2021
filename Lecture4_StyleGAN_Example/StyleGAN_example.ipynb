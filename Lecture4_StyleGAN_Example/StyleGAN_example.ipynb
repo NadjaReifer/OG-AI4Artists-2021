{
  "nbformat": 4,
  "nbformat_minor": 0,
  "metadata": {
    "colab": {
      "name": "StyleGAN_example.ipynb",
      "provenance": [],
      "mount_file_id": "1fJfchdSNq31Et-kKLCIdAvaNhxB6xaP4",
      "authorship_tag": "ABX9TyN0VMhBVtWZ243bzy0cK5ck",
      "include_colab_link": true
    },
    "kernelspec": {
      "name": "python3",
      "display_name": "Python 3"
    },
    "language_info": {
      "name": "python"
    },
    "accelerator": "GPU",
    "widgets": {
      "application/vnd.jupyter.widget-state+json": {
        "eb9f7d4e4f3045e58fc4eef8da0926d1": {
          "model_module": "@jupyter-widgets/controls",
          "model_name": "HBoxModel",
          "state": {
            "_view_name": "HBoxView",
            "_dom_classes": [],
            "_model_name": "HBoxModel",
            "_view_module": "@jupyter-widgets/controls",
            "_model_module_version": "1.5.0",
            "_view_count": null,
            "_view_module_version": "1.5.0",
            "box_style": "",
            "layout": "IPY_MODEL_14a2a456aa6f43b29be7928faeec3e23",
            "_model_module": "@jupyter-widgets/controls",
            "children": [
              "IPY_MODEL_4bb68ff9b0c34ed9addc2658a6ef94e4",
              "IPY_MODEL_d643ed3ba33c4819a91d832b53215e9d"
            ]
          }
        },
        "14a2a456aa6f43b29be7928faeec3e23": {
          "model_module": "@jupyter-widgets/base",
          "model_name": "LayoutModel",
          "state": {
            "_view_name": "LayoutView",
            "grid_template_rows": null,
            "right": null,
            "justify_content": null,
            "_view_module": "@jupyter-widgets/base",
            "overflow": null,
            "_model_module_version": "1.2.0",
            "_view_count": null,
            "flex_flow": null,
            "width": null,
            "min_width": null,
            "border": null,
            "align_items": null,
            "bottom": null,
            "_model_module": "@jupyter-widgets/base",
            "top": null,
            "grid_column": null,
            "overflow_y": null,
            "overflow_x": null,
            "grid_auto_flow": null,
            "grid_area": null,
            "grid_template_columns": null,
            "flex": null,
            "_model_name": "LayoutModel",
            "justify_items": null,
            "grid_row": null,
            "max_height": null,
            "align_content": null,
            "visibility": null,
            "align_self": null,
            "height": null,
            "min_height": null,
            "padding": null,
            "grid_auto_rows": null,
            "grid_gap": null,
            "max_width": null,
            "order": null,
            "_view_module_version": "1.2.0",
            "grid_template_areas": null,
            "object_position": null,
            "object_fit": null,
            "grid_auto_columns": null,
            "margin": null,
            "display": null,
            "left": null
          }
        },
        "4bb68ff9b0c34ed9addc2658a6ef94e4": {
          "model_module": "@jupyter-widgets/controls",
          "model_name": "FloatProgressModel",
          "state": {
            "_view_name": "ProgressView",
            "style": "IPY_MODEL_e551a5a24fc442f8b18adec1ae249dc1",
            "_dom_classes": [],
            "description": "100%",
            "_model_name": "FloatProgressModel",
            "bar_style": "success",
            "max": 2001,
            "_view_module": "@jupyter-widgets/controls",
            "_model_module_version": "1.5.0",
            "value": 2001,
            "_view_count": null,
            "_view_module_version": "1.5.0",
            "orientation": "horizontal",
            "min": 0,
            "description_tooltip": null,
            "_model_module": "@jupyter-widgets/controls",
            "layout": "IPY_MODEL_8b7d0a47a4514d7b89bd09e6ee3ba97a"
          }
        },
        "d643ed3ba33c4819a91d832b53215e9d": {
          "model_module": "@jupyter-widgets/controls",
          "model_name": "HTMLModel",
          "state": {
            "_view_name": "HTMLView",
            "style": "IPY_MODEL_6bd45f3530224ba39638a1cf5fa5f533",
            "_dom_classes": [],
            "description": "",
            "_model_name": "HTMLModel",
            "placeholder": "​",
            "_view_module": "@jupyter-widgets/controls",
            "_model_module_version": "1.5.0",
            "value": " 2001/2001 [12:57&lt;00:00,  2.57it/s]",
            "_view_count": null,
            "_view_module_version": "1.5.0",
            "description_tooltip": null,
            "_model_module": "@jupyter-widgets/controls",
            "layout": "IPY_MODEL_8aecbbb49c694e01bdeffa9c1b9b8a80"
          }
        },
        "e551a5a24fc442f8b18adec1ae249dc1": {
          "model_module": "@jupyter-widgets/controls",
          "model_name": "ProgressStyleModel",
          "state": {
            "_view_name": "StyleView",
            "_model_name": "ProgressStyleModel",
            "description_width": "initial",
            "_view_module": "@jupyter-widgets/base",
            "_model_module_version": "1.5.0",
            "_view_count": null,
            "_view_module_version": "1.2.0",
            "bar_color": null,
            "_model_module": "@jupyter-widgets/controls"
          }
        },
        "8b7d0a47a4514d7b89bd09e6ee3ba97a": {
          "model_module": "@jupyter-widgets/base",
          "model_name": "LayoutModel",
          "state": {
            "_view_name": "LayoutView",
            "grid_template_rows": null,
            "right": null,
            "justify_content": null,
            "_view_module": "@jupyter-widgets/base",
            "overflow": null,
            "_model_module_version": "1.2.0",
            "_view_count": null,
            "flex_flow": null,
            "width": null,
            "min_width": null,
            "border": null,
            "align_items": null,
            "bottom": null,
            "_model_module": "@jupyter-widgets/base",
            "top": null,
            "grid_column": null,
            "overflow_y": null,
            "overflow_x": null,
            "grid_auto_flow": null,
            "grid_area": null,
            "grid_template_columns": null,
            "flex": null,
            "_model_name": "LayoutModel",
            "justify_items": null,
            "grid_row": null,
            "max_height": null,
            "align_content": null,
            "visibility": null,
            "align_self": null,
            "height": null,
            "min_height": null,
            "padding": null,
            "grid_auto_rows": null,
            "grid_gap": null,
            "max_width": null,
            "order": null,
            "_view_module_version": "1.2.0",
            "grid_template_areas": null,
            "object_position": null,
            "object_fit": null,
            "grid_auto_columns": null,
            "margin": null,
            "display": null,
            "left": null
          }
        },
        "6bd45f3530224ba39638a1cf5fa5f533": {
          "model_module": "@jupyter-widgets/controls",
          "model_name": "DescriptionStyleModel",
          "state": {
            "_view_name": "StyleView",
            "_model_name": "DescriptionStyleModel",
            "description_width": "",
            "_view_module": "@jupyter-widgets/base",
            "_model_module_version": "1.5.0",
            "_view_count": null,
            "_view_module_version": "1.2.0",
            "_model_module": "@jupyter-widgets/controls"
          }
        },
        "8aecbbb49c694e01bdeffa9c1b9b8a80": {
          "model_module": "@jupyter-widgets/base",
          "model_name": "LayoutModel",
          "state": {
            "_view_name": "LayoutView",
            "grid_template_rows": null,
            "right": null,
            "justify_content": null,
            "_view_module": "@jupyter-widgets/base",
            "overflow": null,
            "_model_module_version": "1.2.0",
            "_view_count": null,
            "flex_flow": null,
            "width": null,
            "min_width": null,
            "border": null,
            "align_items": null,
            "bottom": null,
            "_model_module": "@jupyter-widgets/base",
            "top": null,
            "grid_column": null,
            "overflow_y": null,
            "overflow_x": null,
            "grid_auto_flow": null,
            "grid_area": null,
            "grid_template_columns": null,
            "flex": null,
            "_model_name": "LayoutModel",
            "justify_items": null,
            "grid_row": null,
            "max_height": null,
            "align_content": null,
            "visibility": null,
            "align_self": null,
            "height": null,
            "min_height": null,
            "padding": null,
            "grid_auto_rows": null,
            "grid_gap": null,
            "max_width": null,
            "order": null,
            "_view_module_version": "1.2.0",
            "grid_template_areas": null,
            "object_position": null,
            "object_fit": null,
            "grid_auto_columns": null,
            "margin": null,
            "display": null,
            "left": null
          }
        }
      }
    }
  },
  "cells": [
    {
      "cell_type": "markdown",
      "metadata": {
        "id": "view-in-github",
        "colab_type": "text"
      },
      "source": [
        "<a href=\"https://colab.research.google.com/github/hochthom/OG-AI4Artists-2021/blob/main/Lecture4_StyleGAN_Example/StyleGAN_example.ipynb\" target=\"_parent\"><img src=\"https://colab.research.google.com/assets/colab-badge.svg\" alt=\"Open In Colab\"/></a>"
      ]
    },
    {
      "cell_type": "code",
      "metadata": {
        "id": "bkoAAbZw40oD"
      },
      "source": [
        "import os\n",
        "from tqdm.notebook import tqdm\n",
        "from stylegan2 import StyleGAN"
      ],
      "execution_count": 1,
      "outputs": []
    },
    {
      "cell_type": "code",
      "metadata": {
        "colab": {
          "base_uri": "https://localhost:8080/"
        },
        "id": "yWVEL-D35gqm",
        "outputId": "631775dc-600d-481b-9e18-4a9fbc61e03b"
      },
      "source": [
        "!ls -l /content/drive/MyDrive/AI4Artists/data"
      ],
      "execution_count": 2,
      "outputs": [
        {
          "output_type": "stream",
          "text": [
            "total 383821\n",
            "-rw------- 1 root root 393032041 Apr 29 09:07 images.zip\n"
          ],
          "name": "stdout"
        }
      ]
    },
    {
      "cell_type": "markdown",
      "metadata": {
        "id": "wDnieV1ks_Og"
      },
      "source": [
        "Here we need to define the path to our images. We can either link to a folder containing the inages or to a zip file."
      ]
    },
    {
      "cell_type": "code",
      "metadata": {
        "colab": {
          "base_uri": "https://localhost:8080/"
        },
        "id": "zeqwYAJC5Gxo",
        "outputId": "f261b4b2-8040-4424-e510-508159ab05fd"
      },
      "source": [
        "IMAGE_SOURCE = '/content/drive/MyDrive/AI4Artists/data/images.zip'\n",
        "print(os.path.exists(IMAGE_SOURCE))"
      ],
      "execution_count": 3,
      "outputs": [
        {
          "output_type": "stream",
          "text": [
            "True\n"
          ],
          "name": "stdout"
        }
      ]
    },
    {
      "cell_type": "markdown",
      "metadata": {
        "id": "Fz10FpCZsxcc"
      },
      "source": [
        "Initialisation\n",
        "=============="
      ]
    },
    {
      "cell_type": "markdown",
      "metadata": {
        "id": "wqOg_yjjs3Lm"
      },
      "source": [
        "Let's build the StyleGAN model and initialize our data set."
      ]
    },
    {
      "cell_type": "code",
      "metadata": {
        "colab": {
          "base_uri": "https://localhost:8080/"
        },
        "id": "I1jv9RyYasIw",
        "outputId": "52a4c522-ce51-40c2-9790-89a863b4ef1c"
      },
      "source": [
        "model = StyleGAN(lr=0.0001, silent=False)\n",
        "model.create_data(IMAGE_SOURCE)"
      ],
      "execution_count": 4,
      "outputs": [
        {
          "output_type": "stream",
          "text": [
            "Model: \"model_1\"\n",
            "__________________________________________________________________________________________________\n",
            "Layer (type)                    Output Shape         Param #     Connected to                     \n",
            "==================================================================================================\n",
            "input_2 (InputLayer)            [(None, 512)]        0                                            \n",
            "__________________________________________________________________________________________________\n",
            "lambda (Lambda)                 (None, 1)            0           input_2[0][0]                    \n",
            "__________________________________________________________________________________________________\n",
            "dense_5 (Dense)                 (None, 1024)         2048        lambda[0][0]                     \n",
            "__________________________________________________________________________________________________\n",
            "reshape (Reshape)               (None, 4, 4, 64)     0           dense_5[0][0]                    \n",
            "__________________________________________________________________________________________________\n",
            "activation (Activation)         (None, 4, 4, 64)     0           reshape[0][0]                    \n",
            "__________________________________________________________________________________________________\n",
            "input_9 (InputLayer)            [(None, 256, 256, 1) 0                                            \n",
            "__________________________________________________________________________________________________\n",
            "dense_7 (Dense)                 (None, 64)           32832       input_2[0][0]                    \n",
            "__________________________________________________________________________________________________\n",
            "lambda_1 (Lambda)               (None, 4, 4, 1)      0           input_9[0][0]                    \n",
            "                                                                 activation[0][0]                 \n",
            "__________________________________________________________________________________________________\n",
            "conv2d_mod (Conv2DMod)          (None, 4, 4, 512)    294912      activation[0][0]                 \n",
            "                                                                 dense_7[0][0]                    \n",
            "__________________________________________________________________________________________________\n",
            "dense_8 (Dense)                 (None, 4, 4, 512)    1024        lambda_1[0][0]                   \n",
            "__________________________________________________________________________________________________\n",
            "add_7 (Add)                     (None, 4, 4, 512)    0           conv2d_mod[0][0]                 \n",
            "                                                                 dense_8[0][0]                    \n",
            "__________________________________________________________________________________________________\n",
            "leaky_re_lu_18 (LeakyReLU)      (None, 4, 4, 512)    0           add_7[0][0]                      \n",
            "__________________________________________________________________________________________________\n",
            "dense_9 (Dense)                 (None, 512)          262656      input_2[0][0]                    \n",
            "__________________________________________________________________________________________________\n",
            "conv2d_mod_1 (Conv2DMod)        (None, 4, 4, 512)    2359296     leaky_re_lu_18[0][0]             \n",
            "                                                                 dense_9[0][0]                    \n",
            "__________________________________________________________________________________________________\n",
            "dense_10 (Dense)                (None, 4, 4, 512)    1024        lambda_1[0][0]                   \n",
            "__________________________________________________________________________________________________\n",
            "add_8 (Add)                     (None, 4, 4, 512)    0           conv2d_mod_1[0][0]               \n",
            "                                                                 dense_10[0][0]                   \n",
            "__________________________________________________________________________________________________\n",
            "leaky_re_lu_19 (LeakyReLU)      (None, 4, 4, 512)    0           add_8[0][0]                      \n",
            "__________________________________________________________________________________________________\n",
            "lambda_3 (Lambda)               (None, 8, 8, 512)    0           leaky_re_lu_19[0][0]             \n",
            "__________________________________________________________________________________________________\n",
            "input_3 (InputLayer)            [(None, 512)]        0                                            \n",
            "__________________________________________________________________________________________________\n",
            "dense_12 (Dense)                (None, 512)          262656      input_3[0][0]                    \n",
            "__________________________________________________________________________________________________\n",
            "lambda_4 (Lambda)               (None, 8, 8, 1)      0           input_9[0][0]                    \n",
            "                                                                 lambda_3[0][0]                   \n",
            "__________________________________________________________________________________________________\n",
            "conv2d_mod_3 (Conv2DMod)        (None, 8, 8, 256)    1179648     lambda_3[0][0]                   \n",
            "                                                                 dense_12[0][0]                   \n",
            "__________________________________________________________________________________________________\n",
            "dense_13 (Dense)                (None, 8, 8, 256)    512         lambda_4[0][0]                   \n",
            "__________________________________________________________________________________________________\n",
            "add_9 (Add)                     (None, 8, 8, 256)    0           conv2d_mod_3[0][0]               \n",
            "                                                                 dense_13[0][0]                   \n",
            "__________________________________________________________________________________________________\n",
            "leaky_re_lu_20 (LeakyReLU)      (None, 8, 8, 256)    0           add_9[0][0]                      \n",
            "__________________________________________________________________________________________________\n",
            "dense_14 (Dense)                (None, 256)          131328      input_3[0][0]                    \n",
            "__________________________________________________________________________________________________\n",
            "conv2d_mod_4 (Conv2DMod)        (None, 8, 8, 256)    589824      leaky_re_lu_20[0][0]             \n",
            "                                                                 dense_14[0][0]                   \n",
            "__________________________________________________________________________________________________\n",
            "dense_15 (Dense)                (None, 8, 8, 256)    512         lambda_4[0][0]                   \n",
            "__________________________________________________________________________________________________\n",
            "add_10 (Add)                    (None, 8, 8, 256)    0           conv2d_mod_4[0][0]               \n",
            "                                                                 dense_15[0][0]                   \n",
            "__________________________________________________________________________________________________\n",
            "leaky_re_lu_21 (LeakyReLU)      (None, 8, 8, 256)    0           add_10[0][0]                     \n",
            "__________________________________________________________________________________________________\n",
            "lambda_6 (Lambda)               (None, 16, 16, 256)  0           leaky_re_lu_21[0][0]             \n",
            "__________________________________________________________________________________________________\n",
            "input_4 (InputLayer)            [(None, 512)]        0                                            \n",
            "__________________________________________________________________________________________________\n",
            "dense_17 (Dense)                (None, 256)          131328      input_4[0][0]                    \n",
            "__________________________________________________________________________________________________\n",
            "lambda_7 (Lambda)               (None, 16, 16, 1)    0           input_9[0][0]                    \n",
            "                                                                 lambda_6[0][0]                   \n",
            "__________________________________________________________________________________________________\n",
            "conv2d_mod_6 (Conv2DMod)        (None, 16, 16, 128)  294912      lambda_6[0][0]                   \n",
            "                                                                 dense_17[0][0]                   \n",
            "__________________________________________________________________________________________________\n",
            "dense_18 (Dense)                (None, 16, 16, 128)  256         lambda_7[0][0]                   \n",
            "__________________________________________________________________________________________________\n",
            "add_11 (Add)                    (None, 16, 16, 128)  0           conv2d_mod_6[0][0]               \n",
            "                                                                 dense_18[0][0]                   \n",
            "__________________________________________________________________________________________________\n",
            "leaky_re_lu_22 (LeakyReLU)      (None, 16, 16, 128)  0           add_11[0][0]                     \n",
            "__________________________________________________________________________________________________\n",
            "dense_19 (Dense)                (None, 128)          65664       input_4[0][0]                    \n",
            "__________________________________________________________________________________________________\n",
            "conv2d_mod_7 (Conv2DMod)        (None, 16, 16, 128)  147456      leaky_re_lu_22[0][0]             \n",
            "                                                                 dense_19[0][0]                   \n",
            "__________________________________________________________________________________________________\n",
            "dense_20 (Dense)                (None, 16, 16, 128)  256         lambda_7[0][0]                   \n",
            "__________________________________________________________________________________________________\n",
            "add_12 (Add)                    (None, 16, 16, 128)  0           conv2d_mod_7[0][0]               \n",
            "                                                                 dense_20[0][0]                   \n",
            "__________________________________________________________________________________________________\n",
            "leaky_re_lu_23 (LeakyReLU)      (None, 16, 16, 128)  0           add_12[0][0]                     \n",
            "__________________________________________________________________________________________________\n",
            "lambda_9 (Lambda)               (None, 32, 32, 128)  0           leaky_re_lu_23[0][0]             \n",
            "__________________________________________________________________________________________________\n",
            "input_5 (InputLayer)            [(None, 512)]        0                                            \n",
            "__________________________________________________________________________________________________\n",
            "dense_22 (Dense)                (None, 128)          65664       input_5[0][0]                    \n",
            "__________________________________________________________________________________________________\n",
            "lambda_10 (Lambda)              (None, 32, 32, 1)    0           input_9[0][0]                    \n",
            "                                                                 lambda_9[0][0]                   \n",
            "__________________________________________________________________________________________________\n",
            "conv2d_mod_9 (Conv2DMod)        (None, 32, 32, 96)   110592      lambda_9[0][0]                   \n",
            "                                                                 dense_22[0][0]                   \n",
            "__________________________________________________________________________________________________\n",
            "dense_23 (Dense)                (None, 32, 32, 96)   192         lambda_10[0][0]                  \n",
            "__________________________________________________________________________________________________\n",
            "add_13 (Add)                    (None, 32, 32, 96)   0           conv2d_mod_9[0][0]               \n",
            "                                                                 dense_23[0][0]                   \n",
            "__________________________________________________________________________________________________\n",
            "leaky_re_lu_24 (LeakyReLU)      (None, 32, 32, 96)   0           add_13[0][0]                     \n",
            "__________________________________________________________________________________________________\n",
            "dense_24 (Dense)                (None, 96)           49248       input_5[0][0]                    \n",
            "__________________________________________________________________________________________________\n",
            "conv2d_mod_10 (Conv2DMod)       (None, 32, 32, 96)   82944       leaky_re_lu_24[0][0]             \n",
            "                                                                 dense_24[0][0]                   \n",
            "__________________________________________________________________________________________________\n",
            "dense_25 (Dense)                (None, 32, 32, 96)   192         lambda_10[0][0]                  \n",
            "__________________________________________________________________________________________________\n",
            "add_14 (Add)                    (None, 32, 32, 96)   0           conv2d_mod_10[0][0]              \n",
            "                                                                 dense_25[0][0]                   \n",
            "__________________________________________________________________________________________________\n",
            "leaky_re_lu_25 (LeakyReLU)      (None, 32, 32, 96)   0           add_14[0][0]                     \n",
            "__________________________________________________________________________________________________\n",
            "lambda_12 (Lambda)              (None, 64, 64, 96)   0           leaky_re_lu_25[0][0]             \n",
            "__________________________________________________________________________________________________\n",
            "input_6 (InputLayer)            [(None, 512)]        0                                            \n",
            "__________________________________________________________________________________________________\n",
            "dense_27 (Dense)                (None, 96)           49248       input_6[0][0]                    \n",
            "__________________________________________________________________________________________________\n",
            "lambda_13 (Lambda)              (None, 64, 64, 1)    0           input_9[0][0]                    \n",
            "                                                                 lambda_12[0][0]                  \n",
            "__________________________________________________________________________________________________\n",
            "conv2d_mod_12 (Conv2DMod)       (None, 64, 64, 64)   55296       lambda_12[0][0]                  \n",
            "                                                                 dense_27[0][0]                   \n",
            "__________________________________________________________________________________________________\n",
            "dense_28 (Dense)                (None, 64, 64, 64)   128         lambda_13[0][0]                  \n",
            "__________________________________________________________________________________________________\n",
            "add_15 (Add)                    (None, 64, 64, 64)   0           conv2d_mod_12[0][0]              \n",
            "                                                                 dense_28[0][0]                   \n",
            "__________________________________________________________________________________________________\n",
            "leaky_re_lu_26 (LeakyReLU)      (None, 64, 64, 64)   0           add_15[0][0]                     \n",
            "__________________________________________________________________________________________________\n",
            "dense_29 (Dense)                (None, 64)           32832       input_6[0][0]                    \n",
            "__________________________________________________________________________________________________\n",
            "conv2d_mod_13 (Conv2DMod)       (None, 64, 64, 64)   36864       leaky_re_lu_26[0][0]             \n",
            "                                                                 dense_29[0][0]                   \n",
            "__________________________________________________________________________________________________\n",
            "dense_30 (Dense)                (None, 64, 64, 64)   128         lambda_13[0][0]                  \n",
            "__________________________________________________________________________________________________\n",
            "add_16 (Add)                    (None, 64, 64, 64)   0           conv2d_mod_13[0][0]              \n",
            "                                                                 dense_30[0][0]                   \n",
            "__________________________________________________________________________________________________\n",
            "leaky_re_lu_27 (LeakyReLU)      (None, 64, 64, 64)   0           add_16[0][0]                     \n",
            "__________________________________________________________________________________________________\n",
            "lambda_15 (Lambda)              (None, 128, 128, 64) 0           leaky_re_lu_27[0][0]             \n",
            "__________________________________________________________________________________________________\n",
            "input_7 (InputLayer)            [(None, 512)]        0                                            \n",
            "__________________________________________________________________________________________________\n",
            "dense_32 (Dense)                (None, 64)           32832       input_7[0][0]                    \n",
            "__________________________________________________________________________________________________\n",
            "lambda_16 (Lambda)              (None, 128, 128, 1)  0           input_9[0][0]                    \n",
            "                                                                 lambda_15[0][0]                  \n",
            "__________________________________________________________________________________________________\n",
            "conv2d_mod_15 (Conv2DMod)       (None, 128, 128, 32) 18432       lambda_15[0][0]                  \n",
            "                                                                 dense_32[0][0]                   \n",
            "__________________________________________________________________________________________________\n",
            "dense_33 (Dense)                (None, 128, 128, 32) 64          lambda_16[0][0]                  \n",
            "__________________________________________________________________________________________________\n",
            "add_17 (Add)                    (None, 128, 128, 32) 0           conv2d_mod_15[0][0]              \n",
            "                                                                 dense_33[0][0]                   \n",
            "__________________________________________________________________________________________________\n",
            "leaky_re_lu_28 (LeakyReLU)      (None, 128, 128, 32) 0           add_17[0][0]                     \n",
            "__________________________________________________________________________________________________\n",
            "dense_34 (Dense)                (None, 32)           16416       input_7[0][0]                    \n",
            "__________________________________________________________________________________________________\n",
            "conv2d_mod_16 (Conv2DMod)       (None, 128, 128, 32) 9216        leaky_re_lu_28[0][0]             \n",
            "                                                                 dense_34[0][0]                   \n",
            "__________________________________________________________________________________________________\n",
            "dense_35 (Dense)                (None, 128, 128, 32) 64          lambda_16[0][0]                  \n",
            "__________________________________________________________________________________________________\n",
            "add_18 (Add)                    (None, 128, 128, 32) 0           conv2d_mod_16[0][0]              \n",
            "                                                                 dense_35[0][0]                   \n",
            "__________________________________________________________________________________________________\n",
            "leaky_re_lu_29 (LeakyReLU)      (None, 128, 128, 32) 0           add_18[0][0]                     \n",
            "__________________________________________________________________________________________________\n",
            "lambda_18 (Lambda)              (None, 256, 256, 32) 0           leaky_re_lu_29[0][0]             \n",
            "__________________________________________________________________________________________________\n",
            "input_8 (InputLayer)            [(None, 512)]        0                                            \n",
            "__________________________________________________________________________________________________\n",
            "dense_37 (Dense)                (None, 32)           16416       input_8[0][0]                    \n",
            "__________________________________________________________________________________________________\n",
            "lambda_19 (Lambda)              (None, 256, 256, 1)  0           input_9[0][0]                    \n",
            "                                                                 lambda_18[0][0]                  \n",
            "__________________________________________________________________________________________________\n",
            "conv2d_mod_18 (Conv2DMod)       (None, 256, 256, 16) 4608        lambda_18[0][0]                  \n",
            "                                                                 dense_37[0][0]                   \n",
            "__________________________________________________________________________________________________\n",
            "dense_38 (Dense)                (None, 256, 256, 16) 32          lambda_19[0][0]                  \n",
            "__________________________________________________________________________________________________\n",
            "add_19 (Add)                    (None, 256, 256, 16) 0           conv2d_mod_18[0][0]              \n",
            "                                                                 dense_38[0][0]                   \n",
            "__________________________________________________________________________________________________\n",
            "leaky_re_lu_30 (LeakyReLU)      (None, 256, 256, 16) 0           add_19[0][0]                     \n",
            "__________________________________________________________________________________________________\n",
            "dense_39 (Dense)                (None, 16)           8208        input_8[0][0]                    \n",
            "__________________________________________________________________________________________________\n",
            "conv2d_mod_19 (Conv2DMod)       (None, 256, 256, 16) 2304        leaky_re_lu_30[0][0]             \n",
            "                                                                 dense_39[0][0]                   \n",
            "__________________________________________________________________________________________________\n",
            "dense_40 (Dense)                (None, 256, 256, 16) 32          lambda_19[0][0]                  \n",
            "__________________________________________________________________________________________________\n",
            "add_20 (Add)                    (None, 256, 256, 16) 0           conv2d_mod_19[0][0]              \n",
            "                                                                 dense_40[0][0]                   \n",
            "__________________________________________________________________________________________________\n",
            "dense_6 (Dense)                 (None, 512)          262656      input_2[0][0]                    \n",
            "__________________________________________________________________________________________________\n",
            "dense_11 (Dense)                (None, 256)          131328      input_3[0][0]                    \n",
            "__________________________________________________________________________________________________\n",
            "dense_16 (Dense)                (None, 128)          65664       input_4[0][0]                    \n",
            "__________________________________________________________________________________________________\n",
            "dense_21 (Dense)                (None, 96)           49248       input_5[0][0]                    \n",
            "__________________________________________________________________________________________________\n",
            "dense_26 (Dense)                (None, 64)           32832       input_6[0][0]                    \n",
            "__________________________________________________________________________________________________\n",
            "dense_31 (Dense)                (None, 32)           16416       input_7[0][0]                    \n",
            "__________________________________________________________________________________________________\n",
            "leaky_re_lu_31 (LeakyReLU)      (None, 256, 256, 16) 0           add_20[0][0]                     \n",
            "__________________________________________________________________________________________________\n",
            "dense_36 (Dense)                (None, 16)           8208        input_8[0][0]                    \n",
            "__________________________________________________________________________________________________\n",
            "conv2d_mod_2 (Conv2DMod)        (None, 4, 4, 3)      1536        leaky_re_lu_19[0][0]             \n",
            "                                                                 dense_6[0][0]                    \n",
            "__________________________________________________________________________________________________\n",
            "conv2d_mod_5 (Conv2DMod)        (None, 8, 8, 3)      768         leaky_re_lu_21[0][0]             \n",
            "                                                                 dense_11[0][0]                   \n",
            "__________________________________________________________________________________________________\n",
            "conv2d_mod_8 (Conv2DMod)        (None, 16, 16, 3)    384         leaky_re_lu_23[0][0]             \n",
            "                                                                 dense_16[0][0]                   \n",
            "__________________________________________________________________________________________________\n",
            "conv2d_mod_11 (Conv2DMod)       (None, 32, 32, 3)    288         leaky_re_lu_25[0][0]             \n",
            "                                                                 dense_21[0][0]                   \n",
            "__________________________________________________________________________________________________\n",
            "conv2d_mod_14 (Conv2DMod)       (None, 64, 64, 3)    192         leaky_re_lu_27[0][0]             \n",
            "                                                                 dense_26[0][0]                   \n",
            "__________________________________________________________________________________________________\n",
            "conv2d_mod_17 (Conv2DMod)       (None, 128, 128, 3)  96          leaky_re_lu_29[0][0]             \n",
            "                                                                 dense_31[0][0]                   \n",
            "__________________________________________________________________________________________________\n",
            "conv2d_mod_20 (Conv2DMod)       (None, 256, 256, 3)  48          leaky_re_lu_31[0][0]             \n",
            "                                                                 dense_36[0][0]                   \n",
            "__________________________________________________________________________________________________\n",
            "lambda_2 (Lambda)               (None, 256, 256, 3)  0           conv2d_mod_2[0][0]               \n",
            "__________________________________________________________________________________________________\n",
            "lambda_5 (Lambda)               (None, 256, 256, 3)  0           conv2d_mod_5[0][0]               \n",
            "__________________________________________________________________________________________________\n",
            "lambda_8 (Lambda)               (None, 256, 256, 3)  0           conv2d_mod_8[0][0]               \n",
            "__________________________________________________________________________________________________\n",
            "lambda_11 (Lambda)              (None, 256, 256, 3)  0           conv2d_mod_11[0][0]              \n",
            "__________________________________________________________________________________________________\n",
            "lambda_14 (Lambda)              (None, 256, 256, 3)  0           conv2d_mod_14[0][0]              \n",
            "__________________________________________________________________________________________________\n",
            "lambda_17 (Lambda)              (None, 256, 256, 3)  0           conv2d_mod_17[0][0]              \n",
            "__________________________________________________________________________________________________\n",
            "lambda_20 (Lambda)              (None, 256, 256, 3)  0           conv2d_mod_20[0][0]              \n",
            "__________________________________________________________________________________________________\n",
            "add_21 (Add)                    (None, 256, 256, 3)  0           lambda_2[0][0]                   \n",
            "                                                                 lambda_5[0][0]                   \n",
            "                                                                 lambda_8[0][0]                   \n",
            "                                                                 lambda_11[0][0]                  \n",
            "                                                                 lambda_14[0][0]                  \n",
            "                                                                 lambda_17[0][0]                  \n",
            "                                                                 lambda_20[0][0]                  \n",
            "__________________________________________________________________________________________________\n",
            "lambda_21 (Lambda)              (None, 256, 256, 3)  0           add_21[0][0]                     \n",
            "==================================================================================================\n",
            "Total params: 6,919,760\n",
            "Trainable params: 6,919,760\n",
            "Non-trainable params: 0\n",
            "__________________________________________________________________________________________________\n",
            "Loading images to numpy file ...\n",
            "1000 images loaded!\n"
          ],
          "name": "stdout"
        }
      ]
    },
    {
      "cell_type": "markdown",
      "metadata": {
        "id": "Dx8jmvbpruOE"
      },
      "source": [
        "By loading a previously saved model we can continue training from that snapshot. "
      ]
    },
    {
      "cell_type": "code",
      "metadata": {
        "id": "c1TLK-8LrK1X"
      },
      "source": [
        "model.load(0)"
      ],
      "execution_count": 5,
      "outputs": []
    },
    {
      "cell_type": "markdown",
      "metadata": {
        "id": "XTRIkw6msr7O"
      },
      "source": [
        "Training\n",
        "========"
      ]
    },
    {
      "cell_type": "markdown",
      "metadata": {
        "id": "oVCyEQwUr_tQ"
      },
      "source": [
        "Next we train the styleGAN for some epochs. The number of epochs depends on the dataset, but in general the longer the better (e.g. epochs ~ 40k)."
      ]
    },
    {
      "cell_type": "code",
      "metadata": {
        "colab": {
          "base_uri": "https://localhost:8080/",
          "height": 435,
          "referenced_widgets": [
            "eb9f7d4e4f3045e58fc4eef8da0926d1",
            "14a2a456aa6f43b29be7928faeec3e23",
            "4bb68ff9b0c34ed9addc2658a6ef94e4",
            "d643ed3ba33c4819a91d832b53215e9d",
            "e551a5a24fc442f8b18adec1ae249dc1",
            "8b7d0a47a4514d7b89bd09e6ee3ba97a",
            "6bd45f3530224ba39638a1cf5fa5f533",
            "8aecbbb49c694e01bdeffa9c1b9b8a80"
          ]
        },
        "id": "ghV5DRgiehej",
        "outputId": "e975245f-0c06-4c11-8f1e-6489806c6e75"
      },
      "source": [
        "epochs = 2001\n",
        "for e in tqdm(range(epochs)):\n",
        "    model.train()"
      ],
      "execution_count": 5,
      "outputs": [
        {
          "output_type": "display_data",
          "data": {
            "application/vnd.jupyter.widget-view+json": {
              "model_id": "eb9f7d4e4f3045e58fc4eef8da0926d1",
              "version_minor": 0,
              "version_major": 2
            },
            "text/plain": [
              "HBox(children=(FloatProgress(value=0.0, max=2001.0), HTML(value='')))"
            ]
          },
          "metadata": {
            "tags": []
          }
        },
        {
          "output_type": "stream",
          "text": [
            "Round    100: D =  6.2939, G = -4.0781, PL =  0.0511\n",
            "Round    200: D =  5.3196, G =  1.1218, PL =  0.0227\n",
            "Round    300: D =  1.7066, G =  1.4547, PL =  0.0118\n",
            "Round    400: D =  0.8587, G =  0.6678, PL =  0.0083\n",
            "Round    500: D =  1.7598, G = -0.2385, PL =  0.0061\n",
            "Round    600: D =  1.2669, G =  0.2550, PL =  0.0056\n",
            "Round    700: D =  1.1747, G =  5.1973, PL =  0.0042\n",
            "Round    800: D =  0.6387, G =  3.4626, PL =  0.0039\n",
            "Round    900: D =  1.5706, G =  2.7371, PL =  0.0034\n",
            "Round   1000: D =  0.3038, G =  3.1711, PL =  0.0039\n",
            "Saving model as m0 ...\n",
            "Round   1100: D =  0.5595, G =  1.9705, PL =  0.0039\n",
            "Round   1200: D =  1.0429, G =  0.4580, PL =  0.0060\n",
            "Round   1300: D =  0.2206, G =  1.8080, PL =  0.0045\n",
            "Round   1400: D =  0.7657, G =  2.5504, PL =  0.0042\n",
            "Round   1500: D =  0.2241, G =  1.9436, PL =  0.0035\n",
            "Round   1600: D =  0.4266, G =  2.5324, PL =  0.0041\n",
            "Round   1700: D =  0.2113, G =  1.5934, PL =  0.0039\n",
            "Round   1800: D =  0.2235, G =  3.2408, PL =  0.0034\n",
            "Round   1900: D =  0.2008, G =  1.9823, PL =  0.0026\n",
            "Round   2000: D =  0.3994, G =  0.7919, PL =  0.0029\n",
            "Saving model as m1 ...\n",
            "\n"
          ],
          "name": "stdout"
        }
      ]
    }
  ]
}